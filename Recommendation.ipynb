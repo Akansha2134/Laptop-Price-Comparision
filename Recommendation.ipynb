{
 "cells": [
  {
   "cell_type": "markdown",
   "id": "b3726ff5",
   "metadata": {},
   "source": [
    "# Importing Libraries "
   ]
  },
  {
   "cell_type": "code",
   "execution_count": 1,
   "id": "33b6d983",
   "metadata": {},
   "outputs": [],
   "source": [
    "import pandas as pd\n",
    "import seaborn as sns"
   ]
  },
  {
   "cell_type": "code",
   "execution_count": 2,
   "id": "be8d53bd",
   "metadata": {},
   "outputs": [],
   "source": [
    "data = pd.read_csv(\"E:\\\\Users\\\\My Projects\\\\webscrapping\\\\Laptop_price.csv\")"
   ]
  },
  {
   "cell_type": "code",
   "execution_count": 3,
   "id": "7dce8fa0",
   "metadata": {},
   "outputs": [
    {
     "data": {
      "text/html": [
       "<div>\n",
       "<style scoped>\n",
       "    .dataframe tbody tr th:only-of-type {\n",
       "        vertical-align: middle;\n",
       "    }\n",
       "\n",
       "    .dataframe tbody tr th {\n",
       "        vertical-align: top;\n",
       "    }\n",
       "\n",
       "    .dataframe thead th {\n",
       "        text-align: right;\n",
       "    }\n",
       "</style>\n",
       "<table border=\"1\" class=\"dataframe\">\n",
       "  <thead>\n",
       "    <tr style=\"text-align: right;\">\n",
       "      <th></th>\n",
       "      <th>Product Name</th>\n",
       "      <th>Price</th>\n",
       "      <th>Website_name</th>\n",
       "    </tr>\n",
       "  </thead>\n",
       "  <tbody>\n",
       "    <tr>\n",
       "      <th>0</th>\n",
       "      <td>LENOVO V15 G3 IAP | 12th GEN | Intel Core I3-1...</td>\n",
       "      <td>Rs. 105,000</td>\n",
       "      <td>HB Computers</td>\n",
       "    </tr>\n",
       "    <tr>\n",
       "      <th>1</th>\n",
       "      <td>Lenovo V15 G3 IAP Laptop - Intel Core i3-1215U...</td>\n",
       "      <td>Rs.116,500</td>\n",
       "      <td>Computer Zone</td>\n",
       "    </tr>\n",
       "  </tbody>\n",
       "</table>\n",
       "</div>"
      ],
      "text/plain": [
       "                                        Product Name        Price  \\\n",
       "0  LENOVO V15 G3 IAP | 12th GEN | Intel Core I3-1...  Rs. 105,000   \n",
       "1  Lenovo V15 G3 IAP Laptop - Intel Core i3-1215U...   Rs.116,500   \n",
       "\n",
       "    Website_name  \n",
       "0   HB Computers  \n",
       "1  Computer Zone  "
      ]
     },
     "execution_count": 3,
     "metadata": {},
     "output_type": "execute_result"
    }
   ],
   "source": [
    "data.head()"
   ]
  },
  {
   "cell_type": "code",
   "execution_count": 4,
   "id": "d574d1b7",
   "metadata": {},
   "outputs": [
    {
     "data": {
      "text/plain": [
       "Product Name    object\n",
       "Price           object\n",
       "Website_name    object\n",
       "dtype: object"
      ]
     },
     "execution_count": 4,
     "metadata": {},
     "output_type": "execute_result"
    }
   ],
   "source": [
    "data.dtypes"
   ]
  },
  {
   "cell_type": "markdown",
   "id": "e6ed8dd6",
   "metadata": {},
   "source": [
    "# Data Cleaning"
   ]
  },
  {
   "cell_type": "code",
   "execution_count": 5,
   "id": "8bad0631",
   "metadata": {},
   "outputs": [
    {
     "name": "stdout",
     "output_type": "stream",
     "text": [
      "0           LENOVO V15 G3 IAP\n",
      "1    Lenovo V15 G3 IAP Laptop\n",
      "Name: Product Name, dtype: object\n"
     ]
    }
   ],
   "source": [
    "# for cleaning purposes\n",
    "data['Product Name'] =data['Product Name'].str.split('|').str[0].str.strip()\n",
    "data['Product Name'] =data['Product Name'].str.split('-').str[0].str.strip()\n",
    "print(data['Product Name'])"
   ]
  },
  {
   "cell_type": "code",
   "execution_count": 6,
   "id": "b6f485be",
   "metadata": {},
   "outputs": [
    {
     "name": "stdout",
     "output_type": "stream",
     "text": [
      "0     105000\n",
      "1     116500\n",
      "Name: Price, dtype: object\n"
     ]
    }
   ],
   "source": [
    "data['Price'] =data['Price'].str.split('.').str[1]\n",
    "data['Price'] = data['Price'].str.replace(',', '')\n",
    "print(data['Price'])"
   ]
  },
  {
   "cell_type": "code",
   "execution_count": 7,
   "id": "06e99170",
   "metadata": {},
   "outputs": [
    {
     "data": {
      "text/html": [
       "<div>\n",
       "<style scoped>\n",
       "    .dataframe tbody tr th:only-of-type {\n",
       "        vertical-align: middle;\n",
       "    }\n",
       "\n",
       "    .dataframe tbody tr th {\n",
       "        vertical-align: top;\n",
       "    }\n",
       "\n",
       "    .dataframe thead th {\n",
       "        text-align: right;\n",
       "    }\n",
       "</style>\n",
       "<table border=\"1\" class=\"dataframe\">\n",
       "  <thead>\n",
       "    <tr style=\"text-align: right;\">\n",
       "      <th></th>\n",
       "      <th>Product Name</th>\n",
       "      <th>Price</th>\n",
       "      <th>Website_name</th>\n",
       "    </tr>\n",
       "  </thead>\n",
       "  <tbody>\n",
       "    <tr>\n",
       "      <th>0</th>\n",
       "      <td>LENOVO V15 G3 IAP</td>\n",
       "      <td>105000</td>\n",
       "      <td>HB Computers</td>\n",
       "    </tr>\n",
       "    <tr>\n",
       "      <th>1</th>\n",
       "      <td>Lenovo V15 G3 IAP Laptop</td>\n",
       "      <td>116500</td>\n",
       "      <td>Computer Zone</td>\n",
       "    </tr>\n",
       "  </tbody>\n",
       "</table>\n",
       "</div>"
      ],
      "text/plain": [
       "               Product Name    Price   Website_name\n",
       "0         LENOVO V15 G3 IAP   105000   HB Computers\n",
       "1  Lenovo V15 G3 IAP Laptop   116500  Computer Zone"
      ]
     },
     "execution_count": 7,
     "metadata": {},
     "output_type": "execute_result"
    }
   ],
   "source": [
    "data.head()"
   ]
  },
  {
   "cell_type": "code",
   "execution_count": 8,
   "id": "ff981bef",
   "metadata": {},
   "outputs": [
    {
     "data": {
      "text/plain": [
       "Product Name    0\n",
       "Price           0\n",
       "Website_name    0\n",
       "dtype: int64"
      ]
     },
     "execution_count": 8,
     "metadata": {},
     "output_type": "execute_result"
    }
   ],
   "source": [
    "# checking for null values\n",
    "data.isnull().sum()"
   ]
  },
  {
   "cell_type": "code",
   "execution_count": 9,
   "id": "bd5a3b7f",
   "metadata": {},
   "outputs": [
    {
     "data": {
      "text/plain": [
       "0"
      ]
     },
     "execution_count": 9,
     "metadata": {},
     "output_type": "execute_result"
    }
   ],
   "source": [
    "# checking for duplicate\n",
    "data.duplicated().sum()"
   ]
  },
  {
   "cell_type": "markdown",
   "id": "0144154f",
   "metadata": {},
   "source": [
    "# Comparision and Recommendation"
   ]
  },
  {
   "cell_type": "code",
   "execution_count": 10,
   "id": "068c38cc",
   "metadata": {},
   "outputs": [
    {
     "data": {
      "text/plain": [
       "Product Name    object\n",
       "Price            int64\n",
       "Website_name    object\n",
       "dtype: object"
      ]
     },
     "execution_count": 10,
     "metadata": {},
     "output_type": "execute_result"
    }
   ],
   "source": [
    "# converting price into int datatype\n",
    "data['Price'] = pd.to_numeric(data['Price'], errors='coerce')\n",
    "data.dtypes"
   ]
  },
  {
   "cell_type": "code",
   "execution_count": 11,
   "id": "afea302f",
   "metadata": {},
   "outputs": [
    {
     "name": "stdout",
     "output_type": "stream",
     "text": [
      "Ecommerce website HB Computers is great for purchasing laptop\n"
     ]
    }
   ],
   "source": [
    "if data['Price'][0] < data['Price'][1]:\n",
    "    print(\"Ecommerce website {} is great for purchasing laptop\".format(data['Website_name'][0]))\n",
    "else:\n",
    "    print(\"Ecommerce website {} is great for purchasing laptop\".format(data['Website_name'][1]))\n",
    "    "
   ]
  },
  {
   "cell_type": "code",
   "execution_count": 12,
   "id": "67877f27",
   "metadata": {},
   "outputs": [
    {
     "data": {
      "text/plain": [
       "<Axes: xlabel='Website_name', ylabel='Price'>"
      ]
     },
     "execution_count": 12,
     "metadata": {},
     "output_type": "execute_result"
    },
    {
     "data": {
      "image/png": "[encoded data removed]",
      "text/plain": [
       "<Figure size 640x480 with 1 Axes>"
      ]
     },
     "metadata": {},
     "output_type": "display_data"
    }
   ],
   "source": [
    "# plotting prices\n",
    "sns.barplot(x ='Website_name', y = 'Price', data = data)"
   ]
  }
 ],
 "metadata": {
  "kernelspec": {
   "display_name": "Python 3 (ipykernel)",
   "language": "python",
   "name": "python3"
  },
  "language_info": {
   "codemirror_mode": {
    "name": "ipython",
    "version": 3
   },
   "file_extension": ".py",
   "mimetype": "text/x-python",
   "name": "python",
   "nbconvert_exporter": "python",
   "pygments_lexer": "ipython3",
   "version": "3.11.4"
  }
 },
 "nbformat": 4,
 "nbformat_minor": 5
}
